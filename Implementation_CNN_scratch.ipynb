{
 "cells": [
  {
   "cell_type": "markdown",
   "metadata": {
    "id": "gIkF88uYsDFz"
   },
   "source": [
    "### Library Imports"
   ]
  },
  {
   "cell_type": "code",
   "execution_count": 4,
   "metadata": {},
   "outputs": [],
   "source": [
    "import pandas as pd\n",
    "import cv2\n",
    "import numpy as np\n",
    "import os\n",
    "from tqdm import tqdm\n",
    "\n",
    "import torch\n",
    "import torch.nn as nn\n",
    "import torch.nn.functional as F\n",
    "from torch.utils.data import DataLoader\n",
    "from torchvision import transforms\n",
    "from torchvision.io import read_image\n",
    "from torch.utils.data import Dataset\n",
    "from torchvision.transforms.functional import to_tensor\n",
    "\n",
    "\n",
    "from sklearn.model_selection import train_test_split\n",
    "\n",
    "import matplotlib.pyplot as plt\n",
    "%matplotlib inline"
   ]
  },
  {
   "cell_type": "markdown",
   "metadata": {},
   "source": [
    "DEFINE VARIABLES HERE"
   ]
  },
  {
   "cell_type": "code",
   "execution_count": 5,
   "metadata": {},
   "outputs": [],
   "source": [
    "ANNOTATION_FILE_PATH = \"../../annotations.csv\"\n",
    "IMAGE_DIR = 'images'\n",
    "VALIDATION_RATIO = 0.1\n",
    "RANDOM_STATE = 42\n",
    "BATCH_SIZE = 32\n",
    "LEARNING_RATE = 1e-6\n",
    "WEIGHT_DECAY = 1e-4\n",
    "EPOCHS = 20"
   ]
  },
  {
   "cell_type": "markdown",
   "metadata": {},
   "source": [
    "### We first explore the data given in the annotations file"
   ]
  },
  {
   "cell_type": "code",
   "execution_count": 6,
   "metadata": {
    "id": "QxMrc5kcL5i8"
   },
   "outputs": [],
   "source": [
    "df = pd.read_csv(ANNOTATION_FILE_PATH)\n",
    "train_df = df[df['Partition'] == 'train']\n",
    "test_df = df[df['Partition'] == 'test']"
   ]
  },
  {
   "cell_type": "code",
   "execution_count": 7,
   "metadata": {
    "colab": {
     "base_uri": "https://localhost:8080/",
     "height": 206
    },
    "id": "_LG4H4ufOQLD",
    "outputId": "76116874-7b80-4b87-a409-e39186cccb22"
   },
   "outputs": [
    {
     "data": {
      "text/html": [
       "<div>\n",
       "<style scoped>\n",
       "    .dataframe tbody tr th:only-of-type {\n",
       "        vertical-align: middle;\n",
       "    }\n",
       "\n",
       "    .dataframe tbody tr th {\n",
       "        vertical-align: top;\n",
       "    }\n",
       "\n",
       "    .dataframe thead th {\n",
       "        text-align: right;\n",
       "    }\n",
       "</style>\n",
       "<table border=\"1\" class=\"dataframe\">\n",
       "  <thead>\n",
       "    <tr style=\"text-align: right;\">\n",
       "      <th></th>\n",
       "      <th>Image Name</th>\n",
       "      <th>Majority Vote Label</th>\n",
       "      <th>Number of Annotators who Selected SSA (Out of 7)</th>\n",
       "      <th>Partition</th>\n",
       "    </tr>\n",
       "  </thead>\n",
       "  <tbody>\n",
       "    <tr>\n",
       "      <th>0</th>\n",
       "      <td>MHIST_aaa.png</td>\n",
       "      <td>SSA</td>\n",
       "      <td>6</td>\n",
       "      <td>train</td>\n",
       "    </tr>\n",
       "    <tr>\n",
       "      <th>1</th>\n",
       "      <td>MHIST_aab.png</td>\n",
       "      <td>HP</td>\n",
       "      <td>0</td>\n",
       "      <td>train</td>\n",
       "    </tr>\n",
       "    <tr>\n",
       "      <th>2</th>\n",
       "      <td>MHIST_aac.png</td>\n",
       "      <td>SSA</td>\n",
       "      <td>5</td>\n",
       "      <td>train</td>\n",
       "    </tr>\n",
       "    <tr>\n",
       "      <th>3</th>\n",
       "      <td>MHIST_aae.png</td>\n",
       "      <td>HP</td>\n",
       "      <td>1</td>\n",
       "      <td>train</td>\n",
       "    </tr>\n",
       "    <tr>\n",
       "      <th>4</th>\n",
       "      <td>MHIST_aaf.png</td>\n",
       "      <td>SSA</td>\n",
       "      <td>5</td>\n",
       "      <td>train</td>\n",
       "    </tr>\n",
       "  </tbody>\n",
       "</table>\n",
       "</div>"
      ],
      "text/plain": [
       "      Image Name Majority Vote Label  \\\n",
       "0  MHIST_aaa.png                 SSA   \n",
       "1  MHIST_aab.png                  HP   \n",
       "2  MHIST_aac.png                 SSA   \n",
       "3  MHIST_aae.png                  HP   \n",
       "4  MHIST_aaf.png                 SSA   \n",
       "\n",
       "   Number of Annotators who Selected SSA (Out of 7) Partition  \n",
       "0                                                 6     train  \n",
       "1                                                 0     train  \n",
       "2                                                 5     train  \n",
       "3                                                 1     train  \n",
       "4                                                 5     train  "
      ]
     },
     "execution_count": 7,
     "metadata": {},
     "output_type": "execute_result"
    }
   ],
   "source": [
    "df.head()"
   ]
  },
  {
   "cell_type": "markdown",
   "metadata": {},
   "source": [
    "### Checking the ratio of train vs test data"
   ]
  },
  {
   "cell_type": "code",
   "execution_count": 8,
   "metadata": {
    "colab": {
     "base_uri": "https://localhost:8080/"
    },
    "id": "PzhvS--Ct9fC",
    "outputId": "581beeeb-5035-464d-99f8-0c060c5927aa"
   },
   "outputs": [
    {
     "name": "stdout",
     "output_type": "stream",
     "text": [
      "Partition\n",
      "train    2175\n",
      "test      977\n",
      "Name: count, dtype: int64\n"
     ]
    }
   ],
   "source": [
    "print(df['Partition'].value_counts())"
   ]
  },
  {
   "cell_type": "code",
   "execution_count": 9,
   "metadata": {
    "colab": {
     "base_uri": "https://localhost:8080/",
     "height": 466
    },
    "id": "yvHCkDb_uDaj",
    "outputId": "1851c59b-595b-48c8-9dc2-5e244479862c"
   },
   "outputs": [
    {
     "data": {
      "text/plain": [
       "Text(0, 0.5, 'Count')"
      ]
     },
     "execution_count": 9,
     "metadata": {},
     "output_type": "execute_result"
    },
    {
     "data": {
      "image/png": "[encoded data removed]",
      "text/plain": [
       "<Figure size 640x480 with 1 Axes>"
      ]
     },
     "metadata": {},
     "output_type": "display_data"
    }
   ],
   "source": [
    "plt.bar( ['train', 'test'],df['Partition'].value_counts())\n",
    "plt.xlabel('Train/Test Split')\n",
    "plt.ylabel('Count')"
   ]
  },
  {
   "cell_type": "code",
   "execution_count": 10,
   "metadata": {
    "id": "OqJAdonLxbvZ"
   },
   "outputs": [],
   "source": [
    "## Sampling the data to introduce randomness\n",
    "df = df.sample(frac = 1)"
   ]
  },
  {
   "cell_type": "code",
   "execution_count": 11,
   "metadata": {
    "colab": {
     "base_uri": "https://localhost:8080/"
    },
    "id": "7xu1jYSkzAqY",
    "outputId": "3f3a2492-084a-44ef-ad4c-ab1f955e7313"
   },
   "outputs": [
    {
     "name": "stdout",
     "output_type": "stream",
     "text": [
      "[INFO]: \n",
      " SSA Images in train Dataset: 630\n",
      " HP Images in train Dataset: 1545\n"
     ]
    }
   ],
   "source": [
    "train_ssa_count = len(df[(df['Partition'] == 'train') & (df['Majority Vote Label'] == 'SSA')])\n",
    "train_hp_count = len(df[(df['Partition'] == 'train') & (df['Majority Vote Label'] == 'HP')])\n",
    "\n",
    "print(f\"[INFO]: \\n SSA Images in train Dataset: {train_ssa_count}\\n HP Images in train Dataset: {train_hp_count}\")"
   ]
  },
  {
   "cell_type": "markdown",
   "metadata": {},
   "source": [
    "### Let's check the distribution of the classes \"SSA\" and \"HP\""
   ]
  },
  {
   "cell_type": "code",
   "execution_count": 12,
   "metadata": {
    "colab": {
     "base_uri": "https://localhost:8080/",
     "height": 467
    },
    "id": "7fSBXG5tv9os",
    "outputId": "e1d4aea6-ba5e-42d8-f80e-2a408476d1da"
   },
   "outputs": [
    {
     "data": {
      "text/plain": [
       "Text(0, 0.5, 'Count')"
      ]
     },
     "execution_count": 12,
     "metadata": {},
     "output_type": "execute_result"
    },
    {
     "data": {
      "image/png": "[encoded data removed]",
      "text/plain": [
       "<Figure size 640x480 with 1 Axes>"
      ]
     },
     "metadata": {},
     "output_type": "display_data"
    }
   ],
   "source": [
    "plt.bar(['SSA', 'HP'], [train_ssa_count, train_hp_count])\n",
    "plt.xlabel('Class')\n",
    "plt.ylabel('Count')"
   ]
  },
  {
   "cell_type": "code",
   "execution_count": 13,
   "metadata": {
    "id": "zJXJeSLn4Evn"
   },
   "outputs": [],
   "source": [
    "train_df, val_df = train_test_split(train_df, test_size = 0.2, random_state= 42)"
   ]
  },
  {
   "cell_type": "markdown",
   "metadata": {},
   "source": [
    "### Data Pipeline starts"
   ]
  },
  {
   "cell_type": "markdown",
   "metadata": {},
   "source": [
    "#### Step 1. We first create a Custom Dataset class, that takes the updated dataframe object, image folder and transforms ( optional)"
   ]
  },
  {
   "cell_type": "code",
   "execution_count": 14,
   "metadata": {
    "id": "HlDv9wX_FvZO"
   },
   "outputs": [],
   "source": [
    "class MHIST_Dataset(Dataset):\n",
    "    def __init__(self, dataframe, img_dir, transform=None, target_transform=None):\n",
    "        self.img_labels = dataframe\n",
    "        self.img_dir = img_dir\n",
    "        self.transform = transform\n",
    "        self.target_transform = target_transform\n",
    "\n",
    "\n",
    "    def __len__(self):\n",
    "        return len(self.img_labels)\n",
    "\n",
    "    def __getitem__(self, idx):\n",
    "        img_path = os.path.join(self.img_dir, self.img_labels.iloc[idx, 0])\n",
    "        image = read_image(img_path)\n",
    "        image = torch.tensor(image, dtype=torch.float32)\n",
    "\n",
    "        if self.img_labels.iloc[idx, 1] == 'SSA':\n",
    "          label = 0\n",
    "        else:\n",
    "          label = 1\n",
    "        if self.transform:\n",
    "            image = self.transform(image)\n",
    "        if self.target_transform:\n",
    "            label = self.target_transform(label)\n",
    "        return image, label\n",
    "\n",
    "train_dataset = MHIST_Dataset(dataframe=train_df, img_dir= IMAGE_DIR)\n",
    "val_dataset = MHIST_Dataset(dataframe=val_df, img_dir=IMAGE_DIR)\n",
    "\n",
    "train_dataloader = DataLoader(train_dataset, batch_size=BATCH_SIZE, shuffle=True)\n",
    "val_dataloader = DataLoader(val_dataset, batch_size=BATCH_SIZE, shuffle=True)"
   ]
  },
  {
   "cell_type": "markdown",
   "metadata": {},
   "source": [
    "#### Step2. Let's verify the data and check the shape before feeding it into the pipeline, each data point here is of the form [# number of points in batch, number of channels, width, height]"
   ]
  },
  {
   "cell_type": "code",
   "execution_count": 15,
   "metadata": {
    "colab": {
     "base_uri": "https://localhost:8080/"
    },
    "id": "9sfa5PIcO3NL",
    "outputId": "d3498b47-d44f-4c47-ebe6-0b27ee32c79a"
   },
   "outputs": [
    {
     "name": "stderr",
     "output_type": "stream",
     "text": [
      "C:\\Users\\deepa\\AppData\\Local\\Temp\\ipykernel_10168\\615557400.py:15: UserWarning: To copy construct from a tensor, it is recommended to use sourceTensor.clone().detach() or sourceTensor.clone().detach().requires_grad_(True), rather than torch.tensor(sourceTensor).\n",
      "  image = torch.tensor(image, dtype=torch.float32)\n"
     ]
    },
    {
     "name": "stdout",
     "output_type": "stream",
     "text": [
      "Train Feature batch shape: torch.Size([32, 3, 224, 224])\n",
      "Train Labels batch shape: torch.Size([32])\n"
     ]
    }
   ],
   "source": [
    "train_features, train_labels = next(iter(train_dataloader))\n",
    "print(f\"Train Feature batch shape: {train_features.size()}\")\n",
    "print(f\"Train Labels batch shape: {train_labels.size()}\")\n",
    "img = train_features[0].squeeze()\n",
    "label = train_labels[0]"
   ]
  },
  {
   "cell_type": "code",
   "execution_count": 16,
   "metadata": {
    "colab": {
     "base_uri": "https://localhost:8080/"
    },
    "id": "oqVaKlVExRia",
    "outputId": "99f82cf9-d164-478e-ac9a-371719dbbf5f"
   },
   "outputs": [
    {
     "name": "stderr",
     "output_type": "stream",
     "text": [
      "C:\\Users\\deepa\\AppData\\Local\\Temp\\ipykernel_10168\\615557400.py:15: UserWarning: To copy construct from a tensor, it is recommended to use sourceTensor.clone().detach() or sourceTensor.clone().detach().requires_grad_(True), rather than torch.tensor(sourceTensor).\n",
      "  image = torch.tensor(image, dtype=torch.float32)\n"
     ]
    },
    {
     "name": "stdout",
     "output_type": "stream",
     "text": [
      "Test Feature batch shape: torch.Size([32, 3, 224, 224])\n",
      "Test Labels batch shape: torch.Size([32])\n"
     ]
    }
   ],
   "source": [
    "val_features, val_labels = next(iter(val_dataloader))\n",
    "print(f\"Test Feature batch shape: {val_features.size()}\")\n",
    "print(f\"Test Labels batch shape: {val_labels.size()}\")"
   ]
  },
  {
   "cell_type": "markdown",
   "metadata": {},
   "source": [
    "### CNN MODEL FROM SCRATCH"
   ]
  },
  {
   "cell_type": "code",
   "execution_count": 17,
   "metadata": {
    "id": "yjliO7VnyuSZ"
   },
   "outputs": [],
   "source": [
    "class CNN_Model(nn.Module):\n",
    "  def __init__(self):\n",
    "    super().__init__()\n",
    "    self.conv1 = nn.Conv2d(3, 6, 3, 1, 1)\n",
    "    self.conv2 = nn.Conv2d(6, 16, 3, 1, 1)\n",
    "    self.fc1 = nn.Linear(16*56*56, 512)\n",
    "    self.fc2 = nn.Linear(512, 256)\n",
    "    self.fc3 = nn.Linear(256, 2)\n",
    "\n",
    "  def forward(self, X):\n",
    "\n",
    "    X = F.relu(self.conv1(X))\n",
    "    X = F.max_pool2d(X, 2, 2)\n",
    "    X = F.relu(self.conv2(X))\n",
    "    X = F.max_pool2d(X, 2, 2)\n",
    "\n",
    "    X = X.view(-1, 16*56*56)\n",
    "\n",
    "    X = F.relu(self.fc1(X))\n",
    "    X = F.relu(self.fc2(X))\n",
    "    X = self.fc3(X)\n",
    "\n",
    "    X = F.log_softmax(X, dim = 1)\n",
    "    return X\n",
    "\n"
   ]
  },
  {
   "cell_type": "code",
   "execution_count": 18,
   "metadata": {
    "colab": {
     "base_uri": "https://localhost:8080/"
    },
    "id": "SQlkrMBrZdaJ",
    "outputId": "f5e33ddc-c5ce-4f56-9214-87b4c82b7bb9"
   },
   "outputs": [
    {
     "data": {
      "text/plain": [
       "CNN_Model(\n",
       "  (conv1): Conv2d(3, 6, kernel_size=(3, 3), stride=(1, 1), padding=(1, 1))\n",
       "  (conv2): Conv2d(6, 16, kernel_size=(3, 3), stride=(1, 1), padding=(1, 1))\n",
       "  (fc1): Linear(in_features=50176, out_features=512, bias=True)\n",
       "  (fc2): Linear(in_features=512, out_features=256, bias=True)\n",
       "  (fc3): Linear(in_features=256, out_features=2, bias=True)\n",
       ")"
      ]
     },
     "execution_count": 18,
     "metadata": {},
     "output_type": "execute_result"
    }
   ],
   "source": [
    "torch.manual_seed(42)\n",
    "model = CNN_Model()\n",
    "model"
   ]
  },
  {
   "cell_type": "markdown",
   "metadata": {},
   "source": [
    "### Loss Function"
   ]
  },
  {
   "cell_type": "code",
   "execution_count": 19,
   "metadata": {
    "id": "7llRMrY7ZfAF"
   },
   "outputs": [],
   "source": [
    "criterion = nn.CrossEntropyLoss()\n",
    "optimizer = torch.optim.Adam(model.parameters(), lr = 0.01)"
   ]
  },
  {
   "cell_type": "markdown",
   "metadata": {},
   "source": [
    "### Training Starts"
   ]
  },
  {
   "cell_type": "code",
   "execution_count": 20,
   "metadata": {
    "colab": {
     "base_uri": "https://localhost:8080/"
    },
    "id": "wLXBvyLdZ16-",
    "outputId": "117f261a-651b-42c7-b692-931583289146"
   },
   "outputs": [
    {
     "name": "stderr",
     "output_type": "stream",
     "text": [
      "0it [00:00, ?it/s]C:\\Users\\deepa\\AppData\\Local\\Temp\\ipykernel_10168\\615557400.py:15: UserWarning: To copy construct from a tensor, it is recommended to use sourceTensor.clone().detach() or sourceTensor.clone().detach().requires_grad_(True), rather than torch.tensor(sourceTensor).\n",
      "  image = torch.tensor(image, dtype=torch.float32)\n",
      "10it [00:08,  1.15it/s]"
     ]
    },
    {
     "name": "stdout",
     "output_type": "stream",
     "text": [
      "[INFO]: Epoch: 0 Batch: 10 Loss: 0.6772338151931763\n"
     ]
    },
    {
     "name": "stderr",
     "output_type": "stream",
     "text": [
      "20it [00:17,  1.28it/s]"
     ]
    },
    {
     "name": "stdout",
     "output_type": "stream",
     "text": [
      "[INFO]: Epoch: 0 Batch: 20 Loss: 0.4853706657886505\n"
     ]
    },
    {
     "name": "stderr",
     "output_type": "stream",
     "text": [
      "30it [00:25,  1.06it/s]"
     ]
    },
    {
     "name": "stdout",
     "output_type": "stream",
     "text": [
      "[INFO]: Epoch: 0 Batch: 30 Loss: 0.7045833468437195\n"
     ]
    },
    {
     "name": "stderr",
     "output_type": "stream",
     "text": [
      "40it [00:35,  1.03it/s]"
     ]
    },
    {
     "name": "stdout",
     "output_type": "stream",
     "text": [
      "[INFO]: Epoch: 0 Batch: 40 Loss: 0.663965106010437\n"
     ]
    },
    {
     "name": "stderr",
     "output_type": "stream",
     "text": [
      "50it [00:45,  1.10it/s]"
     ]
    },
    {
     "name": "stdout",
     "output_type": "stream",
     "text": [
      "[INFO]: Epoch: 0 Batch: 50 Loss: 0.48416805267333984\n"
     ]
    },
    {
     "name": "stderr",
     "output_type": "stream",
     "text": [
      "55it [00:49,  1.11it/s]\n",
      "10it [00:07,  1.34it/s]"
     ]
    },
    {
     "name": "stdout",
     "output_type": "stream",
     "text": [
      "[INFO]: Epoch: 1 Batch: 10 Loss: 0.6524030566215515\n"
     ]
    },
    {
     "name": "stderr",
     "output_type": "stream",
     "text": [
      "20it [00:15,  1.17it/s]"
     ]
    },
    {
     "name": "stdout",
     "output_type": "stream",
     "text": [
      "[INFO]: Epoch: 1 Batch: 20 Loss: 0.5670395493507385\n"
     ]
    },
    {
     "name": "stderr",
     "output_type": "stream",
     "text": [
      "30it [00:23,  1.26it/s]"
     ]
    },
    {
     "name": "stdout",
     "output_type": "stream",
     "text": [
      "[INFO]: Epoch: 1 Batch: 30 Loss: 0.562409520149231\n"
     ]
    },
    {
     "name": "stderr",
     "output_type": "stream",
     "text": [
      "40it [00:30,  1.43it/s]"
     ]
    },
    {
     "name": "stdout",
     "output_type": "stream",
     "text": [
      "[INFO]: Epoch: 1 Batch: 40 Loss: 0.623485803604126\n"
     ]
    },
    {
     "name": "stderr",
     "output_type": "stream",
     "text": [
      "50it [00:38,  1.38it/s]"
     ]
    },
    {
     "name": "stdout",
     "output_type": "stream",
     "text": [
      "[INFO]: Epoch: 1 Batch: 50 Loss: 0.5710099935531616\n"
     ]
    },
    {
     "name": "stderr",
     "output_type": "stream",
     "text": [
      "55it [00:41,  1.33it/s]\n",
      "10it [00:07,  1.36it/s]"
     ]
    },
    {
     "name": "stdout",
     "output_type": "stream",
     "text": [
      "[INFO]: Epoch: 2 Batch: 10 Loss: 0.5388850569725037\n"
     ]
    },
    {
     "name": "stderr",
     "output_type": "stream",
     "text": [
      "20it [00:14,  1.39it/s]"
     ]
    },
    {
     "name": "stdout",
     "output_type": "stream",
     "text": [
      "[INFO]: Epoch: 2 Batch: 20 Loss: 0.4822221100330353\n"
     ]
    },
    {
     "name": "stderr",
     "output_type": "stream",
     "text": [
      "30it [00:21,  1.35it/s]"
     ]
    },
    {
     "name": "stdout",
     "output_type": "stream",
     "text": [
      "[INFO]: Epoch: 2 Batch: 30 Loss: 0.5672985911369324\n"
     ]
    },
    {
     "name": "stderr",
     "output_type": "stream",
     "text": [
      "40it [00:29,  1.30it/s]"
     ]
    },
    {
     "name": "stdout",
     "output_type": "stream",
     "text": [
      "[INFO]: Epoch: 2 Batch: 40 Loss: 0.603661835193634\n"
     ]
    },
    {
     "name": "stderr",
     "output_type": "stream",
     "text": [
      "50it [00:37,  1.29it/s]"
     ]
    },
    {
     "name": "stdout",
     "output_type": "stream",
     "text": [
      "[INFO]: Epoch: 2 Batch: 50 Loss: 0.5635586380958557\n"
     ]
    },
    {
     "name": "stderr",
     "output_type": "stream",
     "text": [
      "55it [00:40,  1.35it/s]\n",
      "10it [00:07,  1.39it/s]"
     ]
    },
    {
     "name": "stdout",
     "output_type": "stream",
     "text": [
      "[INFO]: Epoch: 3 Batch: 10 Loss: 0.59501051902771\n"
     ]
    },
    {
     "name": "stderr",
     "output_type": "stream",
     "text": [
      "20it [00:14,  1.32it/s]"
     ]
    },
    {
     "name": "stdout",
     "output_type": "stream",
     "text": [
      "[INFO]: Epoch: 3 Batch: 20 Loss: 0.6523200273513794\n"
     ]
    },
    {
     "name": "stderr",
     "output_type": "stream",
     "text": [
      "30it [00:22,  1.34it/s]"
     ]
    },
    {
     "name": "stdout",
     "output_type": "stream",
     "text": [
      "[INFO]: Epoch: 3 Batch: 30 Loss: 0.5706118941307068\n"
     ]
    },
    {
     "name": "stderr",
     "output_type": "stream",
     "text": [
      "40it [00:29,  1.46it/s]"
     ]
    },
    {
     "name": "stdout",
     "output_type": "stream",
     "text": [
      "[INFO]: Epoch: 3 Batch: 40 Loss: 0.6240499019622803\n"
     ]
    },
    {
     "name": "stderr",
     "output_type": "stream",
     "text": [
      "50it [00:36,  1.45it/s]"
     ]
    },
    {
     "name": "stdout",
     "output_type": "stream",
     "text": [
      "[INFO]: Epoch: 3 Batch: 50 Loss: 0.49419882893562317\n"
     ]
    },
    {
     "name": "stderr",
     "output_type": "stream",
     "text": [
      "55it [00:39,  1.39it/s]\n",
      "10it [00:07,  1.44it/s]"
     ]
    },
    {
     "name": "stdout",
     "output_type": "stream",
     "text": [
      "[INFO]: Epoch: 4 Batch: 10 Loss: 0.6219148635864258\n"
     ]
    },
    {
     "name": "stderr",
     "output_type": "stream",
     "text": [
      "20it [00:14,  1.29it/s]"
     ]
    },
    {
     "name": "stdout",
     "output_type": "stream",
     "text": [
      "[INFO]: Epoch: 4 Batch: 20 Loss: 0.5945976376533508\n"
     ]
    },
    {
     "name": "stderr",
     "output_type": "stream",
     "text": [
      "30it [00:21,  1.40it/s]"
     ]
    },
    {
     "name": "stdout",
     "output_type": "stream",
     "text": [
      "[INFO]: Epoch: 4 Batch: 30 Loss: 0.6540116667747498\n"
     ]
    },
    {
     "name": "stderr",
     "output_type": "stream",
     "text": [
      "40it [00:28,  1.48it/s]"
     ]
    },
    {
     "name": "stdout",
     "output_type": "stream",
     "text": [
      "[INFO]: Epoch: 4 Batch: 40 Loss: 0.5412687063217163\n"
     ]
    },
    {
     "name": "stderr",
     "output_type": "stream",
     "text": [
      "50it [00:35,  1.41it/s]"
     ]
    },
    {
     "name": "stdout",
     "output_type": "stream",
     "text": [
      "[INFO]: Epoch: 4 Batch: 50 Loss: 0.6814806461334229\n"
     ]
    },
    {
     "name": "stderr",
     "output_type": "stream",
     "text": [
      "55it [00:39,  1.41it/s]\n"
     ]
    }
   ],
   "source": [
    "epochs = 5\n",
    "\n",
    "train_losses = []\n",
    "val_losses = []\n",
    "\n",
    "\n",
    "train_correct = []\n",
    "val_correct = []\n",
    "\n",
    "for i in range(epochs):\n",
    "\n",
    "  trn_corr = 0\n",
    "  vl_corr = 0\n",
    "\n",
    "  for b, (X_train, y_train) in tqdm(enumerate(train_dataloader)):\n",
    "\n",
    "    #predict\n",
    "    y_pred = model(X_train)\n",
    "\n",
    "    # calculate cross entropy loss\n",
    "    #print(y_pred.shape)\n",
    "    loss = criterion(y_pred, y_train)\n",
    "\n",
    "    predicted = torch.max(y_pred.data, 1)[1]\n",
    "    batch_corr = (predicted == y_train).sum()\n",
    "\n",
    "    trn_corr += batch_corr\n",
    "\n",
    "\n",
    "    optimizer.zero_grad()\n",
    "    loss.backward()\n",
    "    optimizer.step()\n",
    "\n",
    "    if (b+1)%10 ==0:\n",
    "      print(f\"[INFO]: Epoch: {i} Batch: {b+1} Loss: {loss.item()}\")\n",
    "\n",
    "  train_losses.append(loss)\n",
    "  train_correct.append(trn_corr)\n",
    "\n",
    "\n",
    "\n",
    "  ## Testing\n",
    "  with torch.no_grad():\n",
    "    for b, (X_val, y_val) in enumerate(val_dataloader):\n",
    "      y_val_pred = model(X_val)\n",
    "      predicted = torch.max(y_val_pred.data, 1)[1]\n",
    "      vl_corr += (predicted == y_val).sum()\n",
    "\n",
    "\n",
    "  loss = criterion(y_val_pred, y_val)\n",
    "  val_losses.append(loss)\n",
    "  val_correct.append(vl_corr)"
   ]
  },
  {
   "cell_type": "code",
   "execution_count": 21,
   "metadata": {
    "id": "-ugQVk037BER"
   },
   "outputs": [],
   "source": [
    "test_dataset = MHIST_Dataset(dataframe=test_df, img_dir=IMAGE_DIR)"
   ]
  },
  {
   "cell_type": "code",
   "execution_count": 26,
   "metadata": {
    "colab": {
     "base_uri": "https://localhost:8080/"
    },
    "id": "SYG5GcszuoDW",
    "outputId": "1d0508c1-19c4-4062-9ee7-21b800da5341"
   },
   "outputs": [
    {
     "name": "stderr",
     "output_type": "stream",
     "text": [
      "  0%|                                                                                          | 0/977 [00:00<?, ?it/s]C:\\Users\\deepa\\AppData\\Local\\Temp\\ipykernel_10168\\615557400.py:15: UserWarning: To copy construct from a tensor, it is recommended to use sourceTensor.clone().detach() or sourceTensor.clone().detach().requires_grad_(True), rather than torch.tensor(sourceTensor).\n",
      "  image = torch.tensor(image, dtype=torch.float32)\n",
      "100%|████████████████████████████████████████████████████████████████████████████████| 977/977 [00:19<00:00, 48.94it/s]\n"
     ]
    }
   ],
   "source": [
    "model.eval()\n",
    "\n",
    "preds = []\n",
    "original = []\n",
    "\n",
    "\n",
    "with torch.no_grad():\n",
    "\n",
    "  for i in tqdm(range(len(test_dataset))):\n",
    "    pred = model(test_dataset[i][0].view(1, 3, 224, 224))\n",
    "    preds.append(pred.argmax().item())\n",
    "    original.append(test_dataset[i][1])"
   ]
  },
  {
   "cell_type": "markdown",
   "metadata": {},
   "source": [
    "### Evaluation"
   ]
  },
  {
   "cell_type": "code",
   "execution_count": 28,
   "metadata": {
    "id": "blvMzqqS7tSz"
   },
   "outputs": [],
   "source": [
    "from sklearn.metrics import confusion_matrix\n",
    "from sklearn.metrics import f1_score, precision_score, recall_score, accuracy_score, auc\n",
    "\n",
    "print(f\"[INFO]: \\nAccuracy: {accuracy_score(original, preds)} \\nPrecision: {precision_score(original, preds)} \\nRecall: {recall_score(original, preds)} \\nF1: {f1_score(original, preds)} \\n \" )\n",
    "print(confusion_matrix(original, preds))"
   ]
  }
 ],
 "metadata": {
  "colab": {
   "provenance": []
  },
  "kernelspec": {
   "display_name": "Python 3 (ipykernel)",
   "language": "python",
   "name": "python3"
  },
  "language_info": {
   "codemirror_mode": {
    "name": "ipython",
    "version": 3
   },
   "file_extension": ".py",
   "mimetype": "text/x-python",
   "name": "python",
   "nbconvert_exporter": "python",
   "pygments_lexer": "ipython3",
   "version": "3.12.2"
  }
 },
 "nbformat": 4,
 "nbformat_minor": 4
}
